{
 "cells": [
  {
   "cell_type": "code",
   "execution_count": 1,
   "metadata": {},
   "outputs": [],
   "source": [
    "f = open('names_1.txt', 'r')\n",
    "names_1 = f.read().split(\"\\n\")  # List containing 10000 names\n",
    "f.close()\n",
    "\n",
    "f = open('names_2.txt', 'r')\n",
    "names_2 = f.read().split(\"\\n\")  # List containing 10000 names\n",
    "f.close()"
   ]
  },
  {
   "cell_type": "code",
   "execution_count": 31,
   "metadata": {},
   "outputs": [
    {
     "output_type": "stream",
     "name": "stdout",
     "text": "Hallie Vazquez\nPeyton Lloyd\nDaphne Hamilton\nJaden Hawkins\nDulce Hines\nPiper Hamilton\nMarisol Morris\nJosie Dawson\nGiancarlo Warren\nAmiah Hobbs\nJaydin Sawyer\nFranklin Cooper\nDiego Chaney\nCarley Gallegos\nAhmad Watts\nMalcolm Nelson\nMalcolm Tucker\nGrace Bridges\nLuciana Ford\nDavion Arias\nPablo Berg\nJadyn Mays\nMarley Rivers\nAbel Newman\nSanai Harrison\nCloe Norris\nClay Wilkinson\nSalma Meza\nAddison Clarke\nNelson Acevedo\nDevyn Aguirre\nWinston Austin\nCarsen Tyler\nHayley Morgan\nAleah Valentine\nCamryn Doyle\nJosie Cole\nNathalie Little\nLeia Foley\nJordin Schneider\nJustine Soto\nLennon Hunt\nZara Suarez\nKale Sawyer\nWilliam Maldonado\nIrvin Krause\nMaliyah Serrano\nSelah Hansen\nKameron Osborne\nAlvaro Robbins\nLeon Cochran\nAndre Carrillo\nDashawn Green\nEden Howe\nLogan Morrow\nRalph Roth\nTrace Gates\nMegan Porter\nAydan Calderon\nRaven Christensen\nAshlee Randall\nVictoria Roach\nRiver Johnson\nAli Collier\n"
    }
   ],
   "source": [
    "for name_1 in names_1:\n",
    "    for name_2 in names_2:\n",
    "        if name_1 == name_2:\n",
    "            print(name_1)"
   ]
  },
  {
   "cell_type": "code",
   "execution_count": 17,
   "metadata": {
    "tags": [
     "outputPrepend",
     "outputPrepend",
     "outputPrepend",
     "outputPrepend"
    ]
   },
   "outputs": [
    {
     "output_type": "error",
     "ename": "AttributeError",
     "evalue": "'NoneType' object has no attribute 'in_order_print'",
     "traceback": [
      "\u001b[1;31m---------------------------------------------------------------------------\u001b[0m",
      "\u001b[1;31mAttributeError\u001b[0m                            Traceback (most recent call last)",
      "\u001b[1;32m<ipython-input-17-4045f637aa7c>\u001b[0m in \u001b[0;36m<module>\u001b[1;34m\u001b[0m\n\u001b[0;32m      1\u001b[0m \u001b[0mnames_1\u001b[0m\u001b[1;33m[\u001b[0m\u001b[1;36m0\u001b[0m\u001b[1;33m]\u001b[0m\u001b[1;33m\u001b[0m\u001b[1;33m\u001b[0m\u001b[0m\n\u001b[0;32m      2\u001b[0m \u001b[0mbst\u001b[0m \u001b[1;33m=\u001b[0m \u001b[0mBSTNode\u001b[0m\u001b[1;33m(\u001b[0m\u001b[0mnames_1\u001b[0m\u001b[1;33m[\u001b[0m\u001b[1;36m0\u001b[0m\u001b[1;33m]\u001b[0m\u001b[1;33m)\u001b[0m\u001b[1;33m\u001b[0m\u001b[1;33m\u001b[0m\u001b[0m\n\u001b[1;32m----> 3\u001b[1;33m \u001b[0mbst\u001b[0m\u001b[1;33m.\u001b[0m\u001b[0min_order_print\u001b[0m\u001b[1;33m(\u001b[0m\u001b[0mbst\u001b[0m\u001b[1;33m)\u001b[0m\u001b[1;33m\u001b[0m\u001b[1;33m\u001b[0m\u001b[0m\n\u001b[0m",
      "\u001b[1;32mc:\\Users\\charl\\OneDrive\\Documents\\MyGithub\\Lambda\\Sprint Challenges\\Sprint-Challenge--Data-Structures-Python\\names\\binary_search_tree.py\u001b[0m in \u001b[0;36min_order_print\u001b[1;34m(self, node)\u001b[0m\n\u001b[0;32m     74\u001b[0m     \u001b[1;32mdef\u001b[0m \u001b[0min_order_print\u001b[0m\u001b[1;33m(\u001b[0m\u001b[0mself\u001b[0m\u001b[1;33m,\u001b[0m \u001b[0mnode\u001b[0m\u001b[1;33m)\u001b[0m\u001b[1;33m:\u001b[0m\u001b[1;33m\u001b[0m\u001b[1;33m\u001b[0m\u001b[0m\n\u001b[0;32m     75\u001b[0m         \u001b[1;32mif\u001b[0m \u001b[0mnode\u001b[0m\u001b[1;33m:\u001b[0m\u001b[1;33m\u001b[0m\u001b[1;33m\u001b[0m\u001b[0m\n\u001b[1;32m---> 76\u001b[1;33m             \u001b[0mself\u001b[0m\u001b[1;33m.\u001b[0m\u001b[0mleft\u001b[0m\u001b[1;33m.\u001b[0m\u001b[0min_order_print\u001b[0m\u001b[1;33m(\u001b[0m\u001b[0mnode\u001b[0m\u001b[1;33m.\u001b[0m\u001b[0mleft\u001b[0m\u001b[1;33m)\u001b[0m\u001b[1;33m\u001b[0m\u001b[1;33m\u001b[0m\u001b[0m\n\u001b[0m\u001b[0;32m     77\u001b[0m             \u001b[0mprint\u001b[0m\u001b[1;33m(\u001b[0m\u001b[0mnode\u001b[0m\u001b[1;33m.\u001b[0m\u001b[0mvalue\u001b[0m\u001b[1;33m)\u001b[0m\u001b[1;33m\u001b[0m\u001b[1;33m\u001b[0m\u001b[0m\n\u001b[0;32m     78\u001b[0m             \u001b[0mself\u001b[0m\u001b[1;33m.\u001b[0m\u001b[0min_order_print\u001b[0m\u001b[1;33m(\u001b[0m\u001b[0mnode\u001b[0m\u001b[1;33m.\u001b[0m\u001b[0mright\u001b[0m\u001b[1;33m)\u001b[0m\u001b[1;33m\u001b[0m\u001b[1;33m\u001b[0m\u001b[0m\n",
      "\u001b[1;31mAttributeError\u001b[0m: 'NoneType' object has no attribute 'in_order_print'"
     ]
    }
   ],
   "source": [
    "names_1[0]\n",
    "bst = BSTNode(names_1[0])\n",
    "bst.in_order_print(bst)"
   ]
  },
  {
   "cell_type": "code",
   "execution_count": 49,
   "metadata": {},
   "outputs": [],
   "source": [
    "from binary_search_tree import BSTNode\n",
    "bst = BSTNode('Bleh')\n",
    "for i in names_1:\n",
    "    bst.insert(i)"
   ]
  },
  {
   "cell_type": "code",
   "execution_count": 50,
   "metadata": {},
   "outputs": [
    {
     "output_type": "execute_result",
     "data": {
      "text/plain": "'Ronnie Barrera'"
     },
     "metadata": {},
     "execution_count": 50
    }
   ],
   "source": [
    "bst.right.value"
   ]
  },
  {
   "cell_type": "code",
   "execution_count": 51,
   "metadata": {},
   "outputs": [],
   "source": [
    "for i in names_2:\n",
    "    if bst.contains(i):\n",
    "        print(i)"
   ]
  },
  {
   "cell_type": "code",
   "execution_count": 52,
   "metadata": {},
   "outputs": [],
   "source": [
    "if bst.contains('Ronnie Barrera') is True:\n",
    "    print('Yay')"
   ]
  },
  {
   "cell_type": "code",
   "execution_count": null,
   "metadata": {},
   "outputs": [],
   "source": []
  }
 ],
 "metadata": {
  "language_info": {
   "codemirror_mode": {
    "name": "ipython",
    "version": 3
   },
   "file_extension": ".py",
   "mimetype": "text/x-python",
   "name": "python",
   "nbconvert_exporter": "python",
   "pygments_lexer": "ipython3",
   "version": "3.7.6-final"
  },
  "orig_nbformat": 2,
  "kernelspec": {
   "name": "python3",
   "display_name": "Python 3"
  }
 },
 "nbformat": 4,
 "nbformat_minor": 2
}